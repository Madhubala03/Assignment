{
 "cells": [
  {
   "cell_type": "markdown",
   "id": "7a3810ed",
   "metadata": {},
   "source": [
    "# 1.Finbanocci series"
   ]
  },
  {
   "cell_type": "code",
   "execution_count": 22,
   "id": "b22d5dd9",
   "metadata": {},
   "outputs": [
    {
     "name": "stdout",
     "output_type": "stream",
     "text": [
      "[0, 1, 1, 2, 3, 5, 8, 13, 21, 34]\n"
     ]
    }
   ],
   "source": [
    "def fib(n):\n",
    "    a=[0,1]\n",
    "    for i in range (0,n-2):\n",
    "        b= a[i]+a[i+1]\n",
    "        a.append(b)\n",
    "    print (a)\n",
    "fib(10)"
   ]
  },
  {
   "cell_type": "code",
   "execution_count": 21,
   "id": "9fb1ec59",
   "metadata": {},
   "outputs": [
    {
     "name": "stdout",
     "output_type": "stream",
     "text": [
      "[0, 1, 1, 2, 3, 5, 8, 13, 21, 34]\n"
     ]
    }
   ],
   "source": [
    "def fib(n):\n",
    "    a=[0,1]\n",
    "    while len(a)<n:\n",
    "        l=len(a)\n",
    "        b=a[l-1]+a[l-2]\n",
    "        a.append(b)\n",
    "    print(a)\n",
    "fib(10)"
   ]
  },
  {
   "cell_type": "markdown",
   "id": "83546c47",
   "metadata": {},
   "source": [
    "# 2.Find a lcm of a list"
   ]
  },
  {
   "cell_type": "code",
   "execution_count": 2,
   "id": "c785455c",
   "metadata": {},
   "outputs": [
    {
     "name": "stdout",
     "output_type": "stream",
     "text": [
      "240\n"
     ]
    }
   ],
   "source": [
    "a=[20,40,60,80]\n",
    "b=max(a)\n",
    "def lcm (a):\n",
    "    m=1\n",
    "    while m>=1:\n",
    "        c= all((b*m)%i==0 for i in a)\n",
    "        if c== True:\n",
    "            print (b*m)\n",
    "            break\n",
    "        else:\n",
    "            m+=1\n",
    "lcm(a)"
   ]
  },
  {
   "cell_type": "code",
   "execution_count": 28,
   "id": "bb4c35d6",
   "metadata": {},
   "outputs": [
    {
     "name": "stdout",
     "output_type": "stream",
     "text": [
      "240\n"
     ]
    }
   ],
   "source": [
    "a=[20,40,60,80]\n",
    "b=max(a)\n",
    "def lcm(a):\n",
    "    m=1\n",
    "    for i in range (1,b):\n",
    "        c=all((b*m)%i==0 for i in a)\n",
    "        if c== True:\n",
    "            print(b*m)\n",
    "            break\n",
    "        else:\n",
    "            m+=1\n",
    "lcm(a)"
   ]
  },
  {
   "cell_type": "markdown",
   "id": "06979a99",
   "metadata": {},
   "source": [
    "# 3.Find a HCF of a list"
   ]
  },
  {
   "cell_type": "code",
   "execution_count": 29,
   "id": "574df853",
   "metadata": {},
   "outputs": [
    {
     "name": "stdout",
     "output_type": "stream",
     "text": [
      "5\n"
     ]
    }
   ],
   "source": [
    "a=[10,15,20,30,40]\n",
    "b=[]\n",
    "def hcf(a):\n",
    "    for i in a:\n",
    "        for j in range(2,i+1):\n",
    "            if i%j==0:\n",
    "                b.append(j)\n",
    "    c=set(b)\n",
    "    for i in c:\n",
    "        if b.count(i)==len(a):\n",
    "            d=i\n",
    "    print(d)\n",
    "hcf(a)"
   ]
  },
  {
   "cell_type": "code",
   "execution_count": 37,
   "id": "c4bc3839",
   "metadata": {},
   "outputs": [
    {
     "name": "stdout",
     "output_type": "stream",
     "text": [
      "5\n"
     ]
    }
   ],
   "source": [
    "a=[10,15,20,30,40,45]\n",
    "b=min(a)\n",
    "def hcf(a):\n",
    "    for i in range (2,b+1):\n",
    "        if b%i==0 and all((j%i)==0 for j in a)==True:\n",
    "            c=i\n",
    "    print(c)\n",
    "hcf(a)"
   ]
  },
  {
   "cell_type": "code",
   "execution_count": null,
   "id": "8a0f50c6",
   "metadata": {},
   "outputs": [],
   "source": []
  },
  {
   "cell_type": "markdown",
   "id": "a2758f81",
   "metadata": {},
   "source": [
    "# 4.a = [1,1,1,2,2,1,4,4,5,3,6,2,2,2,2,4]\n",
    "     1. max count of continuous element  \n",
    "     2. output is 4 \n",
    "     3. ONLY THE COUNT BUT NOT THE ELEMENTS"
   ]
  },
  {
   "cell_type": "code",
   "execution_count": 4,
   "id": "4461f2bb",
   "metadata": {},
   "outputs": [
    {
     "name": "stdout",
     "output_type": "stream",
     "text": [
      "4\n"
     ]
    }
   ],
   "source": [
    "a = [1,1,1,2,2,1,4,4,5,3,6,2,2,2,2,4]\n",
    "def s(a):\n",
    "    count=1\n",
    "    maxi=[]\n",
    "    for i in range(len(a)):\n",
    "        try:\n",
    "            if a[i]==a[i+1]:\n",
    "                count+=1 \n",
    "            else:\n",
    "                maxi.append(count)\n",
    "                count=1\n",
    "        except:\n",
    "            pass    \n",
    "    print(max(maxi))\n",
    "s(a)"
   ]
  },
  {
   "cell_type": "code",
   "execution_count": 42,
   "id": "7bd55a49",
   "metadata": {},
   "outputs": [
    {
     "name": "stdout",
     "output_type": "stream",
     "text": [
      "2 4\n"
     ]
    }
   ],
   "source": [
    "a = [1,1,1,2,2,1,4,4,5,3,6,2,2,2,2,4]\n",
    "def s(a):\n",
    "    count=1\n",
    "    var=0\n",
    "    for i in range(len(a)):\n",
    "        try:\n",
    "            if a[i]==a[i+1]:\n",
    "                count+=1\n",
    "                if var<count:\n",
    "                    var=count\n",
    "                    num=a[i]\n",
    "            else:\n",
    "                count=1\n",
    "        except:\n",
    "            None\n",
    "    print(num,var)\n",
    "s(a)"
   ]
  },
  {
   "cell_type": "markdown",
   "id": "dbfc03de",
   "metadata": {},
   "source": [
    "# 5.a = 12345\n",
    "    1. output should be 54321\n",
    "    2. without converting this integer to string in no case."
   ]
  },
  {
   "cell_type": "code",
   "execution_count": 5,
   "id": "f62342ca",
   "metadata": {},
   "outputs": [
    {
     "name": "stdout",
     "output_type": "stream",
     "text": [
      "54321\n"
     ]
    }
   ],
   "source": [
    "num=12345\n",
    "rev_num=0\n",
    "while num!= 0:\n",
    "    b=num%10\n",
    "    rev_num=rev_num*10+b\n",
    "    num=num//10\n",
    "print(rev_num)"
   ]
  },
  {
   "cell_type": "markdown",
   "id": "a307a29d",
   "metadata": {},
   "source": [
    "# 6.In any list to tell wether the numbers are in ascending order or not\n",
    "    1. [1,2,3,4,5,6] output = True\n",
    "    2. [1,2,3,5,6,7] output = False"
   ]
  },
  {
   "cell_type": "code",
   "execution_count": 39,
   "id": "9e76e1f7",
   "metadata": {},
   "outputs": [
    {
     "name": "stdout",
     "output_type": "stream",
     "text": [
      "true\n"
     ]
    }
   ],
   "source": [
    "a=[1,2,3,4]\n",
    "c=a.copy()\n",
    "def out(a):\n",
    "    if sorted(c) ==a:\n",
    "        print('true')\n",
    "    else:\n",
    "        print('false')\n",
    "out(a)"
   ]
  },
  {
   "cell_type": "markdown",
   "id": "27c24db2",
   "metadata": {},
   "source": [
    "# 7.You are given a sentence, and want to shift each letter by 2 in alphabet to create a secret code. The sentence you want to encode is the lazy dog jumped over the quick brown fox and the output should be ’vjg ncba fqi lworgf qxgt vjg swkem dtqyp hqz’"
   ]
  },
  {
   "cell_type": "code",
   "execution_count": 18,
   "id": "74b0b4e6",
   "metadata": {},
   "outputs": [
    {
     "name": "stdout",
     "output_type": "stream",
     "text": [
      "v\n",
      "j\n",
      "g\n",
      " \n",
      "n\n",
      "c\n",
      "b\n",
      "a\n",
      " \n",
      "f\n",
      "q\n",
      "i\n",
      " \n",
      "l\n",
      "w\n",
      "o\n",
      "r\n",
      "g\n",
      "f\n",
      " \n",
      "q\n",
      "x\n",
      "g\n",
      "t\n",
      " \n",
      "v\n",
      "j\n",
      "g\n",
      " \n",
      "s\n",
      "w\n",
      "k\n",
      "e\n",
      "m\n",
      " \n",
      "d\n",
      "t\n",
      "q\n",
      "y\n",
      "p\n",
      " \n",
      "h\n",
      "q\n",
      "z\n"
     ]
    }
   ],
   "source": [
    "a=\"the lazy dog jumped over the quick brown fox\"\n",
    "def alpha(a):\n",
    "    for i in range(len(a)):\n",
    "        if a[i]!=\" \" and a[i]!='z' and a[i]!='y':\n",
    "            j=chr(ord(a[i])+2)\n",
    "            print (j)\n",
    "        elif a[i]=='z':\n",
    "            print ('b')\n",
    "        elif a[i]=='y':\n",
    "            print ('a')\n",
    "        else:\n",
    "            print (a[i])\n",
    "alpha(a)"
   ]
  },
  {
   "cell_type": "markdown",
   "id": "3d03f3c8",
   "metadata": {},
   "source": [
    "# 8.Converts minutes to seconds."
   ]
  },
  {
   "cell_type": "code",
   "execution_count": 38,
   "id": "00771e73",
   "metadata": {},
   "outputs": [
    {
     "name": "stdout",
     "output_type": "stream",
     "text": [
      "120\n"
     ]
    }
   ],
   "source": [
    "def sec(a):\n",
    "    b=a*60\n",
    "    print(b)\n",
    "sec(2)"
   ]
  },
  {
   "cell_type": "markdown",
   "id": "d8789755",
   "metadata": {},
   "source": [
    "# 9.Converts age in years to days"
   ]
  },
  {
   "cell_type": "code",
   "execution_count": 20,
   "id": "5cfe3671",
   "metadata": {},
   "outputs": [
    {
     "name": "stdout",
     "output_type": "stream",
     "text": [
      "10592\n"
     ]
    }
   ],
   "source": [
    "age= 29\n",
    "pre_year=2022\n",
    "born_year=pre_year-age\n",
    "def day_age(age,pre_year):\n",
    "    if ((born_year%4==0 and born_year%100!=0) or (born_year%100==0 and born_year%400==0)):\n",
    "        Days=((age//4)+1)+(age*365)\n",
    "        print(Days)\n",
    "    else:\n",
    "        Days=((age//4))+(age*365)\n",
    "        print(Days)\n",
    "day_age(age,pre_year)"
   ]
  },
  {
   "cell_type": "code",
   "execution_count": null,
   "id": "2ed24717",
   "metadata": {},
   "outputs": [],
   "source": [
    "\n"
   ]
  }
 ],
 "metadata": {
  "kernelspec": {
   "display_name": "Python 3 (ipykernel)",
   "language": "python",
   "name": "python3"
  },
  "language_info": {
   "codemirror_mode": {
    "name": "ipython",
    "version": 3
   },
   "file_extension": ".py",
   "mimetype": "text/x-python",
   "name": "python",
   "nbconvert_exporter": "python",
   "pygments_lexer": "ipython3",
   "version": "3.9.7"
  }
 },
 "nbformat": 4,
 "nbformat_minor": 5
}
