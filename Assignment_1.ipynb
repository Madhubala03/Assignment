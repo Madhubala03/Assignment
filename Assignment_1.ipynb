{
  "cells": [
    {
      "cell_type": "markdown",
      "metadata": {
        "id": "view-in-github",
        "colab_type": "text"
      },
      "source": [
        "<a href=\"https://colab.research.google.com/github/Madhubala03/Assignment/blob/main/Assignment_1.ipynb\" target=\"_parent\"><img src=\"https://colab.research.google.com/assets/colab-badge.svg\" alt=\"Open In Colab\"/></a>"
      ]
    },
    {
      "cell_type": "code",
      "source": [
        "! pip install colored"
      ],
      "metadata": {
        "colab": {
          "base_uri": "https://localhost:8080/"
        },
        "id": "RbLOsiPXxQmj",
        "outputId": "a09a2c43-a87a-40ac-b5f3-a9a3cafe182b"
      },
      "execution_count": null,
      "outputs": [
        {
          "output_type": "stream",
          "name": "stdout",
          "text": [
            "Requirement already satisfied: colored in /usr/local/lib/python3.7/dist-packages (1.4.3)\n"
          ]
        }
      ]
    },
    {
      "cell_type": "code",
      "execution_count": null,
      "metadata": {
        "id": "YKlBkpZJemmd"
      },
      "outputs": [],
      "source": [
        "from termcolor import colored"
      ]
    },
    {
      "cell_type": "code",
      "source": [
        "#Task 01\n",
        "#Registration and Login system with Python, file handling\n",
        "\n",
        "count=3\n",
        "class nuser:\n",
        "  def __init__(self):\n",
        "    nuser.Username(self)\n",
        "  def Username(self):\n",
        "    Username=input('Please provide a new username:\\nUsername:\\t')       #Username as input\n",
        "    self.Username=Username\n",
        "    import re\n",
        "    spl= re.findall('@\\.+',Username)                                      \n",
        "    if '@' in Username and '.' in Username and Username[0].isalpha()==True and len(spl)==0:\n",
        "      nuser.Password(self)\n",
        "    else:\n",
        "      print('Invalid username. Please try again')\n",
        "  def Password(self):\n",
        "    Password=input('''Please provide a new password:\\nPlease remember that the password must have the following:\n",
        "    \\n1.length between 5 and 16\\n2.a number\\n3.a lowercase letter\\n4.a uppercase letter\\n5.a special character\\nNew Password:\\t''')     #Password as input\n",
        "    if len(Password)>=5 and len(Password)<=16:\n",
        "      num= any( x.isnumeric()==True for x in Password)\n",
        "      if num==True:\n",
        "        pass\n",
        "      else:\n",
        "        print('Password must contain atleast one number.Please try again')\n",
        "      up= any( x.isupper()==True for x in Password)\n",
        "      if up==True:\n",
        "        pass\n",
        "      else:\n",
        "        print('Password must contain atleast one lowercase.Please try again')\n",
        "      low= any( x.islower()==True for x in Password)\n",
        "      if low==True:\n",
        "        pass\n",
        "      else:\n",
        "        print('Password must contain atleast one uppercase.Please try again')\n",
        "      from string import ascii_letters\n",
        "      if set(Password).difference(ascii_letters):\n",
        "        file=open('Cred.txt','a+')      #Creating a file (if file doesnt exist) and appending a file\n",
        "        file.write('Username: ')\n",
        "        file.write(self.Username)\n",
        "        file.write(' Password: ')\n",
        "        file.write(Password)\n",
        "        file.write(\"\\n\")\n",
        "        file.close()                    #Closing the file\n",
        "        print('User Registered successfully')\n",
        "      else:\n",
        "        print('Password must contain atleast one special character.Please try again')\n",
        "    else:\n",
        "      print('Password should contain minimum of 5 and maximum of 16 characters.Please try again')\n",
        "\n",
        "class user:\n",
        "  def __init__(self):\n",
        "    self.Username=input('Please enter your login credentials:\\nUsername:\\t')  #Username as input\n",
        "    self.Password=input('Password:\\t')                                        #Password as input\n",
        "    user.validation(self)\n",
        "  def count(self):\n",
        "    global count\n",
        "    count-=1\n",
        "  def Fpassword(self):\n",
        "    file=open('Cred.txt','r')           #Opening a file\n",
        "    for line in file.readlines():\n",
        "      login_info=line.split()\n",
        "      if self.Username==login_info[1]:\n",
        "        print('Your password is:',login_info[3])\n",
        "        file.close()                    #closing the file\n",
        "        return True\n",
        "    print('Username does not exist.\\nPlease register to continue.')\n",
        "    return False\n",
        "  def validation(self):\n",
        "    file=open('Cred.txt','r')\n",
        "    for line in file.readlines():\n",
        "      login_info=line.split()\n",
        "      if self.Username==login_info[1] and self.Password==login_info[3]:\n",
        "        print('You are logged in successfully.')\n",
        "        file.close()\n",
        "        return True\n",
        "    print('Incorrect Username\\Password\\n')\n",
        "    x=int(input('Forgot Password?\\tIf yes enter 0 or enter 1 to try again\\t'))\n",
        "    if x==0:\n",
        "      user.Fpassword(self)\n",
        "    else:\n",
        "      user.count(self)\n",
        "      if count>0:\n",
        "        print(f'You have {count} attempts left. Please try again ')\n",
        "        user()\n",
        "      else:\n",
        "        print('Maximum attempts reached.Please try again')\n",
        "\n",
        "print(colored(('Welcome to Metaverse').center(200),'blue'))\n",
        "print(colored(('User Sign Up\\ Login').center(200),'yellow'))\n",
        "print('To create a new account enter 0\\nTo login enter 1')\n",
        "x=int(input())\n",
        "if x==0:\n",
        "  nuser()\n",
        "else:\n",
        "  user()"
      ],
      "metadata": {
        "id": "FKIr8tMjFnHo",
        "colab": {
          "base_uri": "https://localhost:8080/"
        },
        "outputId": "a7281c61-6e07-4761-c05b-ab6c7876bed8"
      },
      "execution_count": null,
      "outputs": [
        {
          "output_type": "stream",
          "name": "stdout",
          "text": [
            "\u001b[34m                                                                                          Welcome to Metaverse                                                                                          \u001b[0m\n",
            "\u001b[33m                                                                                          User Sign Up\\ Login                                                                                           \u001b[0m\n",
            "To create a new account enter 0\n",
            "To login enter 1\n",
            "1\n",
            "Please enter your login credentials:\n",
            "Username:\tsdf@g.c\n",
            "Password:\tfe\n",
            "Incorrect Username\\Password\n",
            "\n",
            "Forgot Password?\tIf yes enter 0 or enter 1 to try again\t0\n",
            "Username does not exist.\n",
            "Please register to continue.\n"
          ]
        }
      ]
    },
    {
      "cell_type": "code",
      "source": [
        ""
      ],
      "metadata": {
        "id": "DQpPkMDn-39U"
      },
      "execution_count": null,
      "outputs": []
    }
  ],
  "metadata": {
    "colab": {
      "name": "Assessment 1.ipynb",
      "provenance": [],
      "collapsed_sections": [],
      "authorship_tag": "ABX9TyPNZ+lCrLRu0BYzJYFDlZGV",
      "include_colab_link": true
    },
    "kernelspec": {
      "display_name": "Python 3",
      "name": "python3"
    },
    "language_info": {
      "name": "python"
    }
  },
  "nbformat": 4,
  "nbformat_minor": 0
}